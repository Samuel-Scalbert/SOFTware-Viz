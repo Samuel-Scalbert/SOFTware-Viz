{
 "cells": [
  {
   "cell_type": "code",
   "execution_count": 1,
   "id": "initial_id",
   "metadata": {
    "collapsed": true,
    "ExecuteTime": {
     "end_time": "2024-05-30T12:53:30.200253534Z",
     "start_time": "2024-05-30T12:53:30.179417701Z"
    }
   },
   "outputs": [],
   "source": [
    "list_soft_to_find = [\"Abstra\",\"ACTA\",\"AIDEme\",\"AIDES\",\"Alignment API\",\"AMIE\",\"apxproof\",\"ARPEnTAge\",\"ARViz\",\"Bibendum\",\"Butterfly\",\"CarottAge\",\"CloudMdsQL Compiler\",\"Colis\",\"COMPRISE Voice Transformer\",\"ConnectionLens\",\"ConnectionLensInMem\",\"CORESE\",\"Corese Server\",\"CORON\",\"CoRTeX\",\"Coussinet\",\"CREEP semantic technology\",\"DBpedia\",\"declearn\",\"DfAnalyzer\",\"dissem.in\",\"Exathlon\",\"fairgrad\",\"FallacyMining\",\"Fuzzy labelling argumentation module\",\"gMark\",\"GRAAL\",\"GraphCite\",\"HIPAR\",\"Imitates\",\"IndeGx\",\"INSEE-Search\",\"InteGraal\",\"ISSA-pipeline\",\"KartoGraphI\",\"Lazylav\",\"Licentia\",\"LinkEx\",\"lod2quiz\",\"Mangoes\",\"MedAnalytics\",\"Metadatamatic\",\"metric-learn\",\"MGExplorer\",\"Morph-xR2RML\",\"MuIR\",\"Muvin\",\"MyLocalInfo\",\"NetworkDisk\",\"Obi-Wan\",\"OntoSQL\",\"OpenAlea\",\"ORBITS\",\"Pl@ntNet\",\"PlugDB\",\"ProvSQL\",\"PyChronicle\",\"Qakis\",\"QuiXPath\",\"RDFQuotient\",\"REMI\",\"rsonpath\",\"Savime\",\"ShapeDesigner\",\"ShEx validator\",\"SIERRA\",\"SmartHal\",\"SNDS Data Generator\",\"Spade\",\"SPARQL micro-services\",\"StatCheck\",\"TDB\",\"TheoremKB\",\"ThePlantGame\",\"TreeForce\",\"UMX\",\"UMX-PRO\",\"VersionClimber\",\"Voice Transformer\",\"WebAudio tube guitar amp sims CLEAN, DISTO and METAL MACHINEs\",\"X-FUN\",\"XPath AutoBench\"]"
   ]
  },
  {
   "cell_type": "code",
   "execution_count": 2,
   "outputs": [],
   "source": [
    "list_soft_founded = [\"ProvSQL\",\"ALGERIA\",\"PostgreSQL\",\"c2d\",\"FCA-Map\",\"Graph-FCA\",\"FCA\",\"CQAPri\",\"ORBITS\",\"CAvSAT\",\"Sat4j\",\"CentOS\",\"EXCLUSIVE\",\"TigerGraph\",\"IDENTIFIER\",\"MAS\",\"MASsimilar\",\"CyMLT\",\"DSSAT\",\"Crop2ML\",\"ModelUnit\",\"ModelUnits\",\"ModelComposite\",\"MathML\",\"BioMA\",\"SimComponentGroup\",\"OpenAlea\",\"RandomForestClassifier\",\"sklearn\",\"TSForest\",\"Rappler\",\"DepecheMood++\",\"SemEval\",\"eLabFTW\",\"COMSES\",\"SEP2P\",\"GraphDB\",\"SPARQLWrapper\",\"FedX\",\"Fuseki\",\"BlazeGraph\",\"Anzo\",\"SaGe\",\"CLEAN\",\"OpenIE\",\"PostprocessedOpenIE\",\"Huggingface Transformers\",\"MIXED\",\"Flair\",\"ClausIE\",\"Edgelet\",\"Open Enclave\",\"Computing Combiner\",\"Snapshot Builder\",\"DomYcile\",\"Combiners\",\"Dash Python\",\"PLLib\",\"ProvLake\",\"ProvTracker\",\"ProvManager\",\"PolyProv-QueryEngine\",\"PolyProvQueryEngine\",\"Prov DBMS\",\"Scikit-Learn\",\"uWSGI\",\"TensorFlow\",\"Cython\",\"PyTorch\",\"Scikit Learn\",\"Semantic Graph\",\"Metaphactory\",\"AStream\",\"Saxon\",\"dShas\",\"QuiXPath\",\"Scala\",\"dNwas\",\"GeoLifeCLEF\",\"LifeCLEF\",\"PlantCLEF\",\"Bing\",\"ImageCLEF\",\"BioMachina\",\"Inaturalist\",\"Lazy lavender\",\"OMHT\",\"AgroPortal\",\"Ontology Mapping Harvesting Tool (OMHT)\",\"IDSpace\",\"BioPortal\",\"Mathematica\",\"BioBERT\",\"SciBERT\",\"RoBERTa\",\"Flair PyTorch NLP\",\"huggingface\",\"hyperopt 10\",\"Sci\",\"BPEmb\",\"Eclipse\",\"SmartTools\",\"UniRank\",\"TopRank\",\"Pyclick\",\"BubbleRank\",\"BatchRank\",\"MedSpacy\",\"UmlsBERT\",\"PubMedBERT\",\"Glove\",\"GloVe\",\"EIRENE\",\"OCaml\",\"MWeaver\",\"Debian\",\"Scikit-learn\",\"MixUp\",\"CutMix\",\"AMD\",\"ALIN\",\"SEALS\",\"LogMap\",\"Matcha\",\"DLinker\",\"LogMapLt\",\"LogMapKG\",\"KGMatcher\",\"SystemPrec\",\"LogMapLight\",\"GraphMatcher\",\"MELT\",\"SPIMBENCH\",\"LSMatch\",\"ATMatcher\",\"LogMapBio\",\"SEBMatcher\",\"DeepOnto\",\"KGMatcher+\",\"StringEquiv\",\"MatOnto\",\"Pellet\",\"edna\",\"Windows 10\",\"ekaw\",\"LogMapLite\",\"SKOS\",\"Docker\",\"LsMatch\",\"Openjdk\",\"CodeMeta\",\"BelMan\",\"pyma-Bandits\",\"MATLAB\",\"PageRank\",\"AMiner\",\"VERSE\",\"DeepWalk\",\"DeepHawkes\",\"SubRank\",\"Para-graphVector\",\"Deep-Walk\",\"SPARQLprov\",\"server\",\"Nodejs\",\"Eve\",\"CoRegNet\",\"Adana\",\"CoRegFlux\",\"CoRegMine\",\"AdactiveFB\",\"Adarev\",\"iMM\",\"bioconductor\",\"SciCom\",\"MinerLC*\",\"Adam\",\"ELSA\",\"ActiveFB\",\"2P\",\"Kademlia\",\"BatchInterval\",\"Spark\",\"HiveQL\",\"Flink\",\"PoseNet\",\"nltk\",\"RESCAL\",\"DistMult\",\"ComplEx\",\"HolE\",\"GNOME\",\"VLog\",\"XMark\",\"Graal\",\"TreeForce\",\"Xcerpt\",\"Rulewerk\",\"OnTop\",\"Mastro\",\"TreeForce (TF)\",\"GProM\",\"Post-greSQL\",\"CPN Tools\",\"SelectProduct\",\"SYSBOOSTER\",\"MixtComp\",\"KernSeg\",\"FAHES\",\"Postgres\",\"AmpedStudio.com\",\"AudioWorklet\",\"Spotify\",\"host\",\"Audio Worklet (AW)\",\"AmpedStudio\",\"AudioParams\",\"WamParameter\",\"AudioWorklets\",\"AudioMass 4\",\"Audio Worklets\",\"Csound\",\"SciGraph\",\"SOLR\",\"BigDAWG\",\"ESTOCADA\",\"BiдDAW G\",\"ES-TOCADA\",\"CloudMdsQL\",\"ESTOCADA Polystor\",\"SourceAccess\",\"Solr\",\"Aster-ixDB\",\"Big-DAWG\",\"ESTOCADA P\",\"BindJoin\",\"AnQL\",\"RDFev\",\"EvoGen\",\"Ostrich\",\"Dydra\",\"Quit Store\",\"SemVersion\",\"SPARQL-star\",\"SPARQL-T\",\"-RDFCSA\",\"RDFlib\",\"RocksBD\",\"Comunica\",\"LOD-Stats\",\"TSQL\",\"SystemT\",\"HEFT\",\"Star\",\"getSmallestCost\",\"AA-Star\",\"ESPnet toolkit\",\"Kaldi toolkit\",\"Dada-Learned\",\"Perso-lin\",\"Local-lin\",\"Global-lin\",\"Perso-lin-Learned\",\"-lin\",\"hdsl\",\"liblinear\",\"libsvm\",\"AgentSpeak\",\"AlignDRAW\",\"CentOS 7\",\"CACHET\",\"SPBv\",\"SimplE\",\"metapath2vec\",\"TransE\",\"CompleEx\",\"ProbLog\",\"RDFQuotient\",\"MapReduce\",\"GradStudents\",\"MDL\",\"GEMDL\",\"AGEMDL\",\"FirstChild\",\"SecondChild\",\"MesInfos\",\"MyCloudHome\",\"Software Guard eXtention (SGX\",\"SigFox\",\"Skylake\",\"BrainPedia\",\"scikit-learn\",\"Nilearn\",\"CUDA\",\"AutoEncoder\",\"UltraWrap\",\"SPARTan\",\"MedGraph\",\"GeoSPARQL\",\"Morph-xR2\",\"SFP-GROWTH\",\"LearnOneRule\",\"Pytorch\",\"hasHeardOf\",\"BeLink\",\"WeSTClass\",\"jQuery\",\"CrowdTangle\",\"RDF4J\",\"DfA-lib\",\"libMesh\",\"DfViewer\",\"DfAnalyzer\",\"DfAlib\",\"FEniCS\",\"FastBit\",\"ParaView\",\"Extreme-scale Application Software (IDEAS\",\"PostgresRaw\",\"noWorkflow\",\"Dataflow Viewer\",\"MonetDB\",\"PROV-Template\",\"Spade\",\"ParaView Catalyst\",\"FEnICS\",\"OpenFOAM\",\"PETSc\",\"LAPACK\",\"SLEPc\",\"VisIt\",\"ParMetis\",\"Cozy\",\"LibSVM\",\"DfAdapter\",\"Chiron WMS\",\"WorkWays\",\"ParameterTuning\",\"libMesh-sedimentation\",\"libMeshsedimentation\",\"mArchiveList\",\"sedimentation\",\"OpenMole\",\"SCIRun\",\"CUMULVS\",\"ExecuteDataTransformation\",\"GitHub\",\"ParaView Catalyst Live\",\"GRASPARC\",\"I_Iteration_Params\",\"RealityGrid\",\"PeTSc\",\"Metis\",\"Parmetis\",\"InfluencedTask\",\"Redis\",\"Open Enclave (OE)\",\"SnakeCLEF\",\"Pl@ntNet\",\"gbif-dl\",\"wtd.cor\",\"scikitlearn\",\"scikitlean\",\"SciPy\",\"SmartRoot\",\"ImageJ\",\"-base\",\"cc_math_roberta\",\"Scholarphi\",\"ChatGPT\",\"pylatexenc\",\"RobertaForTokenClassification\",\"OpenAI\",\"STAR\",\"ObjectRank\",\"-FCA\",\"CoreNLP\",\"Prolog\",\"AgMIP\",\"VOSviewer\",\"AntiVirus-Software\",\"P2PTinyWfMS\",\"Clique\",\"Komadu\",\"PLView\",\"ProvCapturer\",\"AllegroGraph\",\"uWSGI 3\",\"ProvLake Data View (PLView)\",\"Hadoop MapReduce\",\"SPARQL-SD\",\"IndeGx\",\"IndeGx 12\",\"rawEndpointUrl\",\"CozyCloud\",\"OntoSIDES\",\"GNNExplainer\",\"RotatE\",\"AWS\",\"Dist-Mult\",\"-KGE\",\"kmeans\",\"mBERT\",\"mUSE\",\"Minizinc\",\"PRO-TECT\",\"Text dEteCTion\",\"Classy\",\"MaxCompute\",\"ResTune\",\"+RAA\",\"+ RAA\",\"Ottertune\",\"TableScan\",\"SpanBERT\",\"spanBERT\",\"FindIt\",\"Soundtrack Your Brand\",\"iTunes\",\"Word2\",\"Goodreads\",\"RecWalk\",\"Chrome\",\"LSAWfP\",\"Workflow Management System (WfMS)\",\"iSAX\",\"DPiSAX\",\"ParSketch\",\"Coconut\",\"BestNeighbor\",\"parSketch\",\"Hadoop\",\"SimHash\",\"ULISSE\",\"UCR Suite\",\"Rcpp\",\"RcppArmadillo\",\"AsioHeaders\",\"FEWS NET\",\"DeepLIFT\",\"AdaDelta\",\"TempEval\",\"MediaBiasFactCheck\",\"MGN ReLU\",\"SAS\",\"iNaturalist\",\"coda\",\"ConnectionLens\",\"ConnectionStudio\",\"HighCpl\",\"AES\",\"TAXREF\",\"TAXREF-Web\",\"Faust\",\"JSPatcher\",\"BCI2000\",\"three.js\",\"faustwasm\",\"LiveGraph\",\"Sortledton\",\"Live-Graph\",\"CurIndex\",\"Benchmark Suite\",\"GraphOne\",\"BioComputing\",\"GenePix Pro\",\"Millenium 32\",\"GSTSM\",\"Generalized Spatial-Time Sequence Miner (GSTSM)\",\"Instagram\",\"PerfectRef\",\"CorHist\",\"Wikidata\",\"PCDataset\",\"KeGNN\",\"KeGAT\",\"KeGCN\",\"PyTorch Geometric\",\"Exathlon\",\"programac\",\"Python\",\"STATCHECK\",\"StatClaim\",\"CheckWorthyClaim\",\"FlashText\",\"HeidelTime\",\"Excel\",\"DNNProv\",\"Keras\",\"Grid5000\",\"Kibana\",\"ModelHub\",\"ModelKB\",\"PyGIMli\",\"Numpy\",\"sineSPE\",\"convSPE\",\"SPE\",\"pytorch\",\"Band-in-a-Box\",\"implementations\",\"Py-Torch\",\"Py\",\"Pathfinder-X\",\"E2Clab\",\"Stunning Doodle\",\"Stunning\",\"Doodle\",\"Turtle\",\"TrieDF\",\"RDFLib\",\"Jena\",\"MariaDB\",\"FungiCLEF\",\"XGBoost\",\"MetaFormer\",\"ONNX\",\"BirdNET\",\"DataSynthesizer\",\"OntoSQL\",\"eAdvisor\",\"Mobile Apps Development\",\"iCoRA\",\"GUsT-3D\",\"Blender\",\"Unreal Engine\",\"iDigBio\",\"SmartExtract\",\"smartExtract\",\"Flask\",\"GAMSearch\",\"ExplaiNE\",\"SimRoot\",\"GroIMP\",\"FASSET\",\"Farm\",\"NuSMV\",\"nuXmv\",\"Mealy\",\"MapToPair\",\"MapPartition\",\"FlatMap\",\"DBpedia spotlight\",\"cVAE\",\"GenAddr\",\"ProjMap\",\"AtomMap\",\"ProjMaps\",\"GuardedMap\",\"AtomMaps\",\"RULK\",\"RULK KW\",\"SearchX\",\"dbpedia_spotlight\",\"RTFNet\",\"SHARQL\",\"DARQL\",\"Jupyter\",\"Github\",\"OpenLink\",\"Kepler\",\"VisTrails\",\"OpenAlea Phenomenal\",\"Cassandra\",\"CacheScore\",\"Yarn\",\"XPathMark\",\"XQuery\",\"FTRL-proximal\",\"FTRL-Proximal\",\"MurmurHash3\",\"Any23\",\"WAM-Studio\",\"DAW\",\"Logic Audio\",\"Ableton\",\"-Studio\",\"Cubase\",\"YARN\",\"TAXREF-LD\",\"altLabel\",\"gMark\",\"PGX\",\"OpenJDK\",\"SciPhy\",\"SciCumulus\",\"SCCore-Master\",\"ProvStore\",\"ListFITS\",\"Pegasus\",\"Sciphy\",\"BioInfoPortal\",\"CreateMosaic\",\"SciCumulus Query Processor\",\"numpy\",\"ISI\",\"CreateIncorrectedMosaic\",\"pandas\",\"WikiExtractor\",\"ANEMONE\",\"HADAD\",\"SystemML\",\"Prune pr ov\",\"SparkMLlib\",\"PACB\",\"NumPy\",\"HADAD⟨LA\",\"PACB ++\",\"Ten-sorFlow\",\"VREM\",\"OpenBLAS\",\"PACB++\",\"spaCy\",\"INSEE-Search\",\"SHACL\",\"KnowRob\",\"JaCaMo\",\"VoicePrivacy\",\"XEM\",\"Hyperopt\",\"Tap-Net\",\"hyperopt\",\"scmamp\",\"Keras 8\",\"U Wave Gesture Library\",\"xgboost package\",\"SemBERT\",\"scikit\",\"XSB\",\"CoreXPath\",\"LogicBlox\",\"PGCube\",\"ArrayCube\",\"SeeDB\",\"DeepEye\",\"QAGView\",\"LensXPlain\",\"Aggregate Result Manager\",\"Online Attribute Analysis\",\"Aggregate Result Manager (ARM)\",\"GROUP BY CUBE\",\"Ryoan\",\"Azure SQL\",\"BigQuery\",\"Open Enclave SDK\",\"SGXJail\",\"n -Greedy\",\"CycleGAN\",\"GANilla\",\"Cy-cleGAN\",\"Flickr\",\"Sematch\",\"BeeMachine\",\"GBIF\",\"NewSQL\",\"Spanner\",\"LeanXcale\",\"DynamoDB\",\"MemDB\",\"SAP HANA\",\"CouchBase\",\"VoltDB\",\"Splice Machine\",\"Myrinet\",\"HatEval\",\"DeBERTa\",\"HateBERT\",\"OffensEval\",\"AbusEval\",\"InteGraal\",\"GitLab\",\"EmojiGrid\",\"equirectangular-toolbox\",\"pl@ntnet\",\"OpenDamir\",\"scipy\",\"Tensorflow\",\"DISPUTool\",\"DISIPUTool\",\"CAWET\",\"Ozone\",\"CodeNet\",\"J-Trace Pro\",\"CATREEN\",\"MiBench\",\"Heptane\",\"TacleBench\",\"objdump\",\"Polybench\",\"GDB\",\"Debugger\",\"TACLeBench\",\"SigFlow\",\"Hugging Face\",\"CodeBERT\",\"CodeSearchNet\",\"Ensembl\",\"IntuiScript\",\"TAG\",\"GenProgTA\",\"Timed k-Tail\",\"LearnLib\",\"TimeSide\",\"WASABI Interactive Navigator\",\"CacheA\",\"Sgreedy\",\"Agreedy\",\"ActGreedy\",\"SiteGreedy\",\"Phenoarch\",\"cacheA\",\"ZeroMQ\",\"Vis-Trails\",\"Act-Greedy\",\"Azure\",\"EC2\",\"Conda\",\"TADALoT\",\"Cypher\",\"TwoPatterns\",\"tslearn\",\"Adadelta\",\"MoRAI\",\"FireChat\",\"MoRAI (Mobile Read Access in Intermittent)\",\"Peersim\",\"SciQA\",\"PixPlot\",\"Dexteris\",\"printJSON\",\"Scratch\",\"Firefox\",\"SAX\",\"ASAX\",\"AppkNN\",\"ASAX SSE\",\"ExactkNN\",\"ASAX SP (\",\"Numba JIT compiler\",\"ASAX DP (ASAX Data Parallel)\",\"ASAX DP\",\"ASAX SP\",\"StatCheck\",\"statsmodels\",\"scikit_posthocs\",\"TopLkClass\",\"Skype\",\"TINA\",\"petri Net Analyzer\",\"LODE\",\"PrivOnto\",\"rnirs\",\"parSketch-PLS\",\"Rnirs toolbox\",\"pasketch\",\"GapClique\",\"Slice\",\"RawData\",\"GLDEX\",\"UQlab\",\"MPI\",\"RobotReviewer\",\"LibriSpeech\",\"Kaldi\",\"ADAVEC\",\"Tinterpert\",\"CanControls\",\"CARLA\",\"Elastic Suite\",\"Autoware Foundation\",\"VoiceMask\",\"pyworld\",\"StoveOn\",\"LabelMe\",\"ImageTagger\",\"MXNET\",\"CocoAnnotator\",\"SIMBAL\",\"ElectraForTokenClassification\",\"HuggingFace 6\",\"spaCy library\",\"Argotario\",\"OpenStreetMap\",\"Matlab\",\"Node-Red\",\"Ev-IOHMM\",\"Inrupt\",\"MyDex\",\"Meeco\",\"BitsAbout.Me\",\"enOty extracOon\",\"MERGE\",\"AllenNLP\",\"pushRpaq\",\"pushLpaq\",\"FAUST\",\"AudioWorkletProcessor\",\"MIDI\",\"PedalBoard\",\"DeepLift\",\"OpenMusic\",\"PatcherAudio\",\"FAUST compiled patcher\",\"Emscripten\",\"ffmpeg\",\"BrowserFS\",\"VexFlow\",\"CAC\",\"module\",\"AudioWorkletNode\",\"PureData\",\"arithmSer\",\"fiboSer\",\"BirdCLEF\",\"AICrowd\",\"-CLEF\",\"DataFiller\",\"Covid Linked Data Visualizer\",\"MGExplorer\",\"Covidon-the-Web\",\"Di-alogFlow\",\"Wit.ai\",\"Pl@ntNetFranceRaw\",\"eBird\",\"GBIFPlant\",\"ExpertCLEF\",\"ITHEMAL\",\"MLPr\",\"PolyBench\",\"DeepTune\",\"ADAM\",\"ITHEMALtuned\",\"ITHEMAL-tuned\",\"ITHEMALand\",\"MiBench 2\",\"Mibench\",\"ITHEMALuntuned\",\"MiBench2\",\"soundtrap\",\"ampedstudio\",\"WHCA *\",\"DBpedia\",\"DBpedia Spotlight\",\"Corese Semantic Web Factory\",\"LifeJoin\",\"getUserLabel\",\"SaFER\",\"pRoblem\",\"ILOG\",\"CPLEX\",\"conFidEntiality\",\"SignSGD\",\"FastText\",\"ELMo\",\"Asteroid\",\"train.py\",\"pb bss eval 4\",\"model.py\",\"FASST\",\"DataLoader\",\"conf.yml\",\"ManyEars\",\"pb bss 5\",\"nn.Module\",\"ConvTranspose1d\",\"OTTOPIA\",\"KnowBERT\",\"LMHyper\",\"MGHyper\",\"randltl\",\"In-deGx\",\"HiBiSCus\",\"Hi-BiSCus\",\"SpEnD\",\"LODLaundromat\",\"RDF-Star\",\"CKAN\",\"Dataset-Dashboard\",\"KartoGraphI\",\"Openlink\",\"TrustCom\",\"FreedomBox\",\"BigDataSE\",\"MyDex.org\",\"MyData.org\",\"RaspberryPI\",\"FTBNER\",\"conlleval\",\"Ambiverse\",\"SNER\",\"KwikCluster\",\"ACCESS\",\"YummyData\",\"SameLive\",\"LODCloud\",\"CovidOnTheWeb\",\"LDSpider\",\"GoldMiner\",\"Gold-Miner\",\"DP\",\"DP-SCAFFOLD\",\"FedProx\",\"FEMNIST\",\"FedAvg\",\"SCAFFOLD\",\"FedSGD\",\"DP-SCAFFOLD-warm\",\"FedDyn\",\"-FedAvg\",\"Eigen library\",\"dSha\",\"docbook\",\"teixml\",\"MLModelCatalog\",\"Petuum\",\"Hadoop Distributed File System\",\"HyperCard\",\"XMLHttpRequest\",\"Memex\",\"AJAX (Asynchronous JavaScript And XML\",\"ActiveX\",\"DeepFM\",\"DeepCTR\",\"fastText\",\"sklearn-crfsuite\",\"RoboticOK\",\"RoboticTO\",\"APTED\",\"WEASEL\",\"DMSEEW\",\"WEASEL+MUSE\",\"MUSE\",\"-Multivariate-Time-Series-Software\",\"DM-SEEW\",\"ObsPy\",\"SpaCy\",\"Parser\",\"OntoNotes\",\"MiniLM\",\"eReColNat\",\"COCO Annotator\",\"Virtuoso Universal Server\",\"OWL\",\"OWL Full\",\"Corese\",\"MoESP\",\"MoLESP\",\"LANCET\",\"mergeAll\",\"processTree\",\"RPQProv\",\"Virtuoso-SPARQL\",\"recordForMerging\",\"Virtuoso OpenSource\",\"Virtuoso-SQL\",\"GraphQL\",\"TreesRootedIn\",\"Hyperscan\",\"PyTorch-Geometric (PyG)\",\"Hadoop Distributed File System (HDFS)\",\"MusicWeb\",\"MusicLynx\",\"Coordinates\",\"Node-RED\",\"CamemBERT\",\"HyCOR\",\"EP-SPARQL\",\"Persist\",\"Flexics\",\"EFlexics\",\"ParSketch-PLSDA\",\"parSketch-PLSDA\",\"NEO Hyspex\",\"Obi-Wan\",\"Tatooine\",\"StarFighter\",\"StarShip\",\"CRF\",\"BERT\",\"ExaCT\",\"Semantic Scholar\",\"BiGRU\",\"routine\",\"PathWays\",\"Xml\",\"XDuce\",\"PumpLoop\",\"TChecker\",\"PumpAll\",\"Spot\",\"WEASEL+ MUSE\",\"MTEX\",\"-CAM\",\"Grad-CAM\",\"MTEX-CNN\",\"WEASEL +MUSE\",\"COSSU\",\"SaraSi\",\"Inception\",\"HydroShoot\"]"
   ],
   "metadata": {
    "collapsed": false,
    "ExecuteTime": {
     "end_time": "2024-05-30T12:56:54.006920649Z",
     "start_time": "2024-05-30T12:56:54.004660028Z"
    }
   },
   "id": "b79672c954856e6f"
  },
  {
   "cell_type": "code",
   "execution_count": 6,
   "outputs": [
    {
     "name": "stdout",
     "output_type": "stream",
     "text": [
      "Abstra\n",
      "ACTA\n",
      "AIDEme\n",
      "AIDES\n",
      "Alignment API\n",
      "AMIE\n",
      "apxproof\n",
      "ARPEnTAge\n",
      "ARViz\n",
      "Bibendum\n",
      "Butterfly\n",
      "CarottAge\n",
      "CloudMdsQL Compiler\n",
      "Colis\n",
      "COMPRISE Voice Transformer\n",
      "ConnectionLensInMem\n",
      "Corese Server\n",
      "CORON\n",
      "CoRTeX\n",
      "Coussinet\n",
      "CREEP semantic technology\n",
      "declearn\n",
      "dissem.in\n",
      "fairgrad\n",
      "FallacyMining\n",
      "Fuzzy labelling argumentation module\n",
      "GraphCite\n",
      "HIPAR\n",
      "Imitates\n",
      "ISSA-pipeline\n",
      "Lazylav\n",
      "Licentia\n",
      "LinkEx\n",
      "lod2quiz\n",
      "Mangoes\n",
      "MedAnalytics\n",
      "Metadatamatic\n",
      "metric-learn\n",
      "Morph-xR2RML\n",
      "MuIR\n",
      "Muvin\n",
      "MyLocalInfo\n",
      "NetworkDisk\n",
      "PlugDB\n",
      "PyChronicle\n",
      "Qakis\n",
      "REMI\n",
      "rsonpath\n",
      "Savime\n",
      "ShapeDesigner\n",
      "ShEx validator\n",
      "SIERRA\n",
      "SmartHal\n",
      "SNDS Data Generator\n",
      "SPARQL micro-services\n",
      "TDB\n",
      "TheoremKB\n",
      "ThePlantGame\n",
      "UMX\n",
      "UMX-PRO\n",
      "VersionClimber\n",
      "Voice Transformer\n",
      "WebAudio tube guitar amp sims CLEAN, DISTO and METAL MACHINEs\n",
      "X-FUN\n",
      "XPath AutoBench\n",
      "88\n",
      "65\n"
     ]
    },
    {
     "data": {
      "text/plain": "(None,)"
     },
     "execution_count": 6,
     "metadata": {},
     "output_type": "execute_result"
    }
   ],
   "source": [
    "list_not_founded = []\n",
    "for elm in list_soft_to_find:\n",
    "    if elm.lower() not in map(str.lower, list_soft_founded):\n",
    "        print(elm)\n",
    "        list_not_founded.append(elm)\n",
    "print(len(list_soft_to_find)),\n",
    "print(len(list_not_founded)),"
   ],
   "metadata": {
    "collapsed": false,
    "ExecuteTime": {
     "end_time": "2024-05-30T13:35:47.174995959Z",
     "start_time": "2024-05-30T13:35:47.164286529Z"
    }
   },
   "id": "cc44c10ee157a690"
  }
 ],
 "metadata": {
  "kernelspec": {
   "display_name": "Python 3",
   "language": "python",
   "name": "python3"
  },
  "language_info": {
   "codemirror_mode": {
    "name": "ipython",
    "version": 2
   },
   "file_extension": ".py",
   "mimetype": "text/x-python",
   "name": "python",
   "nbconvert_exporter": "python",
   "pygments_lexer": "ipython2",
   "version": "2.7.6"
  }
 },
 "nbformat": 4,
 "nbformat_minor": 5
}
